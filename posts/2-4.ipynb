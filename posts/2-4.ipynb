{
 "cells": [
  {
   "cell_type": "raw",
   "id": "117f9303-7cfc-4bc6-840c-b97e2d49781c",
   "metadata": {
    "vscode": {
     "languageId": "raw"
    }
   },
   "source": [
    "---\n",
    "title: \"2.4 -- Almost-Sure Representations\"\n",
    "author: \"신록예찬\"\n",
    "date: \"02/12/2025\" \n",
    "---"
   ]
  },
  {
   "cell_type": "markdown",
   "id": "d9629ab4",
   "metadata": {
    "vscode": {
     "languageId": "raw"
    }
   },
   "source": [
    "## ref"
   ]
  },
  {
   "cell_type": "markdown",
   "id": "52c69e96-05a4-4f15-9d7e-a04024a7d8c9",
   "metadata": {
    "vscode": {
     "languageId": "raw"
    }
   },
   "source": [
    "> @van2000asymptotic"
   ]
  },
  {
   "cell_type": "markdown",
   "id": "2df2d6f3",
   "metadata": {
    "vscode": {
     "languageId": "raw"
    }
   },
   "source": [
    "# Stochastic Convergence"
   ]
  },
  {
   "cell_type": "markdown",
   "id": "06a6cf5d-3d3f-4278-a6fd-44424562b8c5",
   "metadata": {},
   "source": [
    "## Almost-Sure Representations"
   ]
  },
  {
   "cell_type": "markdown",
   "id": "2d42efc0-f234-4755-bf5b-a044d6133e78",
   "metadata": {},
   "source": [
    "### 스코로호드 표현 정리 vs 정리 2.19\n",
    "\n",
    "**핵심:** 스코로호드 표현 정리와 정리 2.19는 확률 변수열의 분포 수렴을 거의 확실한 수렴으로 \"변환\"할 수 있는 확률 공간의 존재성을 보여주지만, 확률 변수들이 **원래부터 동일한 확률 공간에 존재한다고 가정하지 않는다.**\n",
    "\n",
    "`1`. 스코로호드 표현 정리 (Skorokhod's Representation Theorem)\n",
    "\n",
    "- **가정:** 확률 변수열 $(X_n)_{n \\in \\mathbb{N}}$이 확률 변수 $X$로 약하게 수렴하고, $(X_n)$의 분포열이 tight할 때,\n",
    "- **결론:** **동일한** 확률 공간 $(\\Omega, \\mathcal{F}, P)$ 상에서 정의된 확률 변수열 $(Y_n)_{n \\in \\mathbb{N}}$과 확률 변수 $Y$가 존재하여 다음을 만족합니다.\n",
    "    - $Y_n$은 $X_n$과 분포가 동일합니다.\n",
    "    - $Y$는 $X$와 분포가 동일합니다.\n",
    "    - $Y_n$은 $Y$로 거의 확실하게 수렴합니다.\n",
    "\n",
    "`2`. 정리 2.19 (Almost-sure representations)\n",
    "\n",
    "- **가정:** 확률 변수열 $(X_n)_{n \\in \\mathbb{N}}$이 확률 변수 $X_0$으로 분포 수렴할 때,\n",
    "- **결론:** **어떤** 확률 공간 $(\\tilde{\\Omega}, \\tilde{U}, \\tilde{P})$ 상에서 정의된 확률 벡터열 $(\\tilde{X}_n)_{n \\in \\mathbb{N}}$이 존재하여 다음을 만족합니다.\n",
    "    - $\\tilde{X}_n$은 $X_n$과 분포가 동일합니다.\n",
    "    - $\\tilde{X}_n$은 $\\tilde{X}_0$으로 거의 확실하게 수렴합니다.\n",
    "\n",
    "`3`. 핵심 차이점: 확률 공간\n",
    "\n",
    "| 특징 | 스코로호드 표현 정리 | 정리 2.19 |\n",
    "|---|---|---|\n",
    "| 확률 공간 | **동일한** 확률 공간 $(\\Omega, \\mathcal{F}, P)$ | **어떤** 확률 공간 $(\\tilde{\\Omega}, \\tilde{U}, \\tilde{P})$ |\n",
    "| 추가 조건 | Tightness | 없음 |\n",
    "\n",
    "**오해 방지:**\n",
    "\n",
    "- 스코로호드 표현 정리와 정리 2.19는 $X_1, X_2, ..., X_n, X_0$가 **원래부터 동일한 확률 공간에 존재한다고 가정하지 않습니다.**\n",
    "- 두 정리 모두 **분포 수렴**을 가정하며, 이는 확률 변수들이 특정 확률 공간에 존재한다는 것을 의미하지 않습니다.\n",
    "- **분포 수렴**은 확률 분포들의 수렴을 다루는 개념이며, 확률 변수 자체의 수렴과는 다른 개념입니다.\n",
    "\n",
    "`4`. 정리\n",
    "\n",
    "- 스코로호드 표현 정리는 $X_n$과 동일한 분포를 갖는 $Y_n$을 **동일한** 확률 공간에서 구성할 수 있음을 보여줍니다.\n",
    "- 정리 2.19는 $X_n$과 동일한 분포를 갖는 $\\tilde{X}_n$이 **어떤** 확률 공간에서든 존재함을 보여줍니다.\n",
    "- 두 정리 모두 $X_1, X_2, ..., X_n, X_0$가 **원래부터 동일한 확률 공간에 존재한다고 가정하지 않습니다.**\n",
    "\n",
    "**주의:** 확률 공간에 대한 정확한 이해는 확률론을 공부하는 데 매우 중요합니다. 궁금한 점이 있다면 언제든지 질문해주세요.\n"
   ]
  },
  {
   "cell_type": "markdown",
   "id": "52432a04-0c55-4af0-a1f1-9a94e820c446",
   "metadata": {},
   "source": [
    ":::{.callout-note}\n",
    "\n",
    "***스코로호드 표현 정리 활용 예시***\n",
    "\n",
    "**문제:** 확률 변수 $X_n$이 표준 정규 분포 $N(0, 1)$으로 약하게 수렴할 때, $X_n$의 제곱의 기댓값은 어떻게 될까요?\n",
    "\n",
    "**해결:**\n",
    "\n",
    "`1`. **스코로호드 표현 정리 적용:**\n",
    "\n",
    "- 스코로호드 표현 정리에 따르면, $X_n$과 동일한 분포를 갖는 확률 변수 $Y_n$이 존재하며, $Y_n$은 어떤 확률 변수 $Y$로 거의 확실하게 수렴한다. 즉, $X_n$의 분포와 $Y_n$의 분포는 동일하며, $n$이 무한대로 갈 때 $Y_n$은 $Y$에 거의 확실하게 수렴한다.\n",
    "$$\n",
    "   \\text{스코로호드 표현 정리} \\Rightarrow \\exists Y_n \\sim X_n, Y_n \\xrightarrow{a.s.} Y\n",
    "$$\n",
    "\n",
    "`2`. **기댓값 계산:**\n",
    "\n",
    "- $X_n$의 제곱의 기댓값 $E[X_n^2]$은 $Y_n$의 제곱의 기댓값 $E[Y_n^2]$과 같다 ($X_n$과 $Y_n$은 동일한 분포를 가지므로).\n",
    "\n",
    "$$\n",
    "E[X_n^2] = E[Y_n^2]\n",
    "$$\n",
    "\n",
    "- $Y_n$이 $Y$로 거의 확실하게 수렴하므로, $E[Y_n^2]$은 $E[Y^2]$으로 수렴한다.\n",
    "\n",
    "$$\n",
    "Y_n \\xrightarrow{a.s.} Y \\Rightarrow E[Y_n^2] \\to E[Y^2]\n",
    "$$\n",
    "\n",
    "- $Y$는 표준 정규 분포 $N(0, 1)$을 따르므로, $Y$의 제곱의 기댓값 $E[Y^2]$은 1이다. (표준 정규 분포의 분산은 1이므로)\n",
    "\n",
    "$$\n",
    "Y \\sim N(0, 1) \\Rightarrow E[Y^2] = 1\n",
    "$$\n",
    "\n",
    "`3`. **결론:**\n",
    "\n",
    "- 따라서, $X_n$의 제곱의 기댓값 $E[X_n^2]$은 1로 수렴한다.\n",
    "\n",
    "$$\n",
    "\\therefore E[X_n^2] \\to 1\n",
    "$$\n",
    "\n",
    "**핵심 아이디어:**\n",
    "\n",
    "- 스코로호드 표현 정리를 통해 약하게 수렴하는 확률 변수열을 다루기 쉬운 형태로 변환한다 (거의 확실하게 수렴하는 확률 변수열로).\n",
    "- 거의 확실하게 수렴하는 확률 변수열의 극한을 이용하여 원래 문제의 극한을 계산한다.\n",
    ":::"
   ]
  },
  {
   "cell_type": "markdown",
   "id": "ab7670c3-b952-42b5-9d53-d3089587aae6",
   "metadata": {},
   "source": [
    ":::{.callout-note}\n",
    "\n",
    "***정리 2.19의 활용 예시***\n",
    "\n",
    "**문제:** 확률 변수 $X_n$이 표준 정규 분포 $N(0, 1)$으로 약하게 수렴할 때, $X_n$의 제곱의 기댓값은 어떻게 될까요?\n",
    "\n",
    "> 여기에서 $X_n \\Rightarrow X_0$, $X_0 \\sim N(0,1)$ 이겠지? 그런데 $\\{X_n\\}_{n\\in \\mathbb{N}}, X_0$ 이 어떤 확률공간에 있는지 몰라~ 알수가 없어~\n",
    "\n",
    "**해결:**\n",
    "\n",
    "`1`. **스코로호드 표현 정리 적용:**\n",
    "\n",
    "- 스코로호드 표현 정리에 따르면, $X_n$과 동일한 분포를 갖는 확률 변수 $Y_n$이 존재하며, $Y_n$은 어떤 확률 변수 $Y$로 거의 확실하게 수렴한다. 즉, $X_n$의 분포와 $Y_n$의 분포는 동일하며, $n$이 무한대로 갈 때 $Y_n$은 $Y$에 거의 확실하게 수렴한다.\n",
    "$$\n",
    "   \\text{스코로호드 표현 정리} \\Rightarrow \\exists Y_n \\sim X_n, Y_n \\xrightarrow{a.s.} Y\n",
    "$$\n",
    "\n",
    "`2`. **기댓값 계산:**\n",
    "\n",
    "- $X_n$의 제곱의 기댓값 $E[X_n^2]$은 $Y_n$의 제곱의 기댓값 $E[Y_n^2]$과 같다 ($X_n$과 $Y_n$은 동일한 분포를 가지므로).\n",
    "\n",
    "$$\n",
    "E[X_n^2] = E[Y_n^2]\n",
    "$$\n",
    "\n",
    "- $Y_n$이 $Y$로 거의 확실하게 수렴하므로, $E[Y_n^2]$은 $E[Y^2]$으로 수렴한다.\n",
    "\n",
    "$$\n",
    "Y_n \\xrightarrow{a.s.} Y \\Rightarrow E[Y_n^2] \\to E[Y^2]\n",
    "$$\n",
    "\n",
    "- $Y$는 표준 정규 분포 $N(0, 1)$을 따르므로, $Y$의 제곱의 기댓값 $E[Y^2]$은 1이다. (표준 정규 분포의 분산은 1이므로)\n",
    "\n",
    "$$\n",
    "Y \\sim N(0, 1) \\Rightarrow E[Y^2] = 1\n",
    "$$\n",
    "\n",
    "`3`. **결론:**\n",
    "\n",
    "- 따라서, $X_n$의 제곱의 기댓값 $E[X_n^2]$은 1로 수렴한다.\n",
    "\n",
    "$$\n",
    "\\therefore E[X_n^2] \\to 1\n",
    "$$\n",
    "\n",
    "**핵심 아이디어:**\n",
    "\n",
    "- 스코로호드 표현 정리를 통해 약하게 수렴하는 확률 변수열을 다루기 쉬운 형태로 변환한다 (거의 확실하게 수렴하는 확률 변수열로).\n",
    "- 거의 확실하게 수렴하는 확률 변수열의 극한을 이용하여 원래 문제의 극한을 계산한다.\n",
    ":::"
   ]
  },
  {
   "cell_type": "markdown",
   "id": "2b986806",
   "metadata": {},
   "source": [
    "## References"
   ]
  }
 ],
 "metadata": {
  "kernelspec": {
   "display_name": "Python 3 (ipykernel)",
   "language": "python",
   "name": "python3"
  },
  "language_info": {
   "codemirror_mode": {
    "name": "ipython",
    "version": 3
   },
   "file_extension": ".py",
   "mimetype": "text/x-python",
   "name": "python",
   "nbconvert_exporter": "python",
   "pygments_lexer": "ipython3",
   "version": "3.13.1"
  },
  "widgets": {
   "application/vnd.jupyter.widget-state+json": {
    "state": {},
    "version_major": 2,
    "version_minor": 0
   }
  }
 },
 "nbformat": 4,
 "nbformat_minor": 5
}
