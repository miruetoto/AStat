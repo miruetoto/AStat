{
 "cells": [
  {
   "cell_type": "raw",
   "id": "117f9303-7cfc-4bc6-840c-b97e2d49781c",
   "metadata": {
    "vscode": {
     "languageId": "raw"
    }
   },
   "source": [
    "---\n",
    "title: \"2.1 -- Basic Theory\"\n",
    "author: \"신록예찬\"\n",
    "date: \"02/12/2025\" \n",
    "---"
   ]
  },
  {
   "cell_type": "markdown",
   "id": "d9629ab4",
   "metadata": {
    "vscode": {
     "languageId": "raw"
    }
   },
   "source": [
    "## ref"
   ]
  },
  {
   "cell_type": "markdown",
   "id": "101c35bb",
   "metadata": {
    "vscode": {
     "languageId": "raw"
    }
   },
   "source": [
    "> @van2000asymptotic"
   ]
  },
  {
   "cell_type": "markdown",
   "id": "2df2d6f3",
   "metadata": {
    "vscode": {
     "languageId": "raw"
    }
   },
   "source": [
    "## sdf"
   ]
  },
  {
   "cell_type": "markdown",
   "id": "bad37437",
   "metadata": {
    "vscode": {
     "languageId": "raw"
    }
   },
   "source": [
    "`-` 랜덤 벡터 $X$는 $\\mathbb{R}^k$에서 정의된 실수 랜덤 변수들의 벡터로, 분포 함수(distribution function)는 $x \\mapsto P(X \\leq x)$로 표현된다.\n",
    "\n",
    "`-` 랜덤 벡터 $X_n$이 $X$에 대해 분포 수렴(convergence in distribution)한다고 할 때, 이는 모든 연속점 $x$에서 다음이 성립함을 의미한다.\n",
    "$$\n",
    "P(X_n \\leq x) \\to P(X \\leq x).\n",
    "$$\n",
    "이러한 수렴은 약수렴(weak convergence) 또는 법칙 수렴(convergence in law)이라고도 하며, 확률 공간 자체가 아니라 확률 분포에 의존하는 성질이다. 표기법으로는 $X_n \\Rightarrow X$를 사용하며, 만약 $X$가 특정한 분포 $L$을 따른다면 $X_n \\Rightarrow L$로 표현한다. 예를 들어, $X_n$이 표준 정규분포를 따른다면 $X_n \\Rightarrow N(0,1)$로 나타낼 수 있다.\n"
   ]
  },
  {
   "cell_type": "markdown",
   "id": "f922fa7f",
   "metadata": {},
   "source": [
    ":::{.callout-note}\n",
    "### 분포수렴에서 연속조건~\n",
    "\n",
    "분포 수렴(convergence in distribution)은 확률 변수 $X_n$의 누적분포함수(CDF) $F_n(x)$가 $X$의 누적분포함수 $F(x)$로 수렴하는 것을 의미한다. 즉,\n",
    "$$\n",
    "P(X_n \\leq x) \\to P(X \\leq x)\n",
    "$$\n",
    "가 성립해야 한다. 하지만, 이 수렴이 모든 $x$에서 성립해야 하는 것은 아니며, $F(x)$가 연속인 점에서만 보장되면 충분하다.\n",
    "\n",
    "이러한 조건이 필요한 이유는 누적분포함수는 불연속점을 가질 수 있기 때문이다. 특히, 이산형 확률 변수의 경우 특정한 점에서 점프가 발생하는데, 분포 수렴은 이러한 점프의 크기나 위치에는 민감하지 않다. 따라서, 연속점에서만 수렴을 요구하는 것이 합리적이며, 이는 확률 분포가 전반적으로 변하지 않는다는 의미에서 충분한 조건이 된다. 이러한 수렴 조건은 스크로호드 정리(Skorokhod's Representation Theorem)를 통해 더욱 직관적으로 해석될 수 있다. 이 정리에 따르면, 분포 수렴이 이루어진다면 동일한 확률 공간에서 정의된 확률 변수 $\\tilde{X}_n$과 $\\tilde{X}$를 구성할 수 있으며, 이 변수들은 동일한 분포를 가지면서도 거의 확실하게(almost surely) 수렴하는 성질을 가진다. 결론적으로, 분포 수렴에서 \"모든 점\"이 아니라 \"모든 연속점에서\" 수렴을 요구하는 것은 수학적으로 자연스럽고 실용적인 정의이다.\n",
    ":::"
   ]
  },
  {
   "cell_type": "markdown",
   "id": "a5c6311c",
   "metadata": {},
   "source": [
    ":::{.callout-note}\n",
    "\n",
    "### 분포수렴은 확률공간에 의존하지 않아~\n",
    "분포 수렴(convergence in distribution)은 법칙 수렴(convergence in law)이라고도 하며, 이는 확률 변수의 개별적인 값이 아니라 확률 분포 자체가 수렴하는 개념이다. 즉, 확률 공간 $(\\Omega, \\mathcal{F}, P)$ 위에서 정의된 확률 변수 $X_n$이 확률 변수 $X$로 분포 수렴한다는 것은 다음을 의미한다.\n",
    "\n",
    "$$\n",
    "P(X_n \\leq x) \\to P(X \\leq x) \\quad \\text{for all continuity points of } F(x).\n",
    "$$\n",
    "\n",
    "이때 중요한 점은 확률 공간 자체가 아니라 확률 분포에 의존하는 성질이라는 점이다. 즉, $X_n$과 $X$가 정의된 확률 공간이 무엇이든 간에, 그들이 동일한 확률 분포를 갖는다면 분포 수렴의 여부는 변하지 않는다. 예를 들어, 서로 다른 확률 공간에서 정의된 확률 변수 $X_n$과 $Y_n$이 존재한다고 하자. 만약 이들이 같은 분포를 가진다면, 즉\n",
    "$$\n",
    "X_n \\overset{d}{=} Y_n, \\quad \\forall n,\n",
    "$$\n",
    "이고, $X_n$이 $X$로 분포 수렴한다면, $Y_n$도 동일하게 $X$로 분포 수렴하게 된다. 다시 말해, 분포 수렴은 확률 공간을 넘어서 동일한 분포를 가지는 모든 확률 변수에 대해 성립하는 성질이며, 확률 공간에 따라 달라지는 개별적인 사건(realization)에는 영향을 받지 않는다.\n",
    ":::"
   ]
  },
  {
   "cell_type": "markdown",
   "id": "f5e2fd92",
   "metadata": {},
   "source": [
    "\n",
    "`-` 다음으로, 거리 함수(distance function) $d(x,y)$는 $\\mathbb{R}^k$에서 일반적인 위상을 정의하는 역할을 한다. 특히, 유클리드 거리(Euclidean distance)는 다음과 같이 정의된다.\n",
    "$$\n",
    "d(x, y) = \\| x - y \\| = \\left( \\sum_{i=1}^{k} (x_i - y_i)^2 \\right)^{1/2}.\n",
    "$$\n",
    "\n",
    "랜덤 변수 $X_n$이 $X$에 대해 확률 수렴(convergence in probability)한다고 할 때, 이는 모든 $\\varepsilon > 0$에 대해 다음이 성립함을 의미한다.\n",
    "$$\n",
    "P(d(X_n, X) > \\varepsilon) \\to 0.\n",
    "$$\n",
    "확률 수렴은 $X_n \\xrightarrow{P} X$로 표기하며, $d(X_n, X) \\xrightarrow{P} 0$과 같은 의미로 해석할 수 있다."
   ]
  },
  {
   "cell_type": "markdown",
   "id": "f9120afc",
   "metadata": {
    "vscode": {
     "languageId": "raw"
    }
   },
   "source": [
    ":::{.callout-note}\n",
    "$k=1$ 이면 $d(x,y)=\\sqrt{(x-y)^2}=|x-y|$ 이다.\n",
    ":::"
   ]
  },
  {
   "cell_type": "markdown",
   "id": "447d546c",
   "metadata": {
    "vscode": {
     "languageId": "raw"
    }
   },
   "source": [
    ":::{.callout-note}\n",
    "\n",
    "### Skorokhod's Representation Theorem. \n",
    "\n",
    "확률 변수의 수열 $X_n$이 $X$로 분포 수렴한다고 가정하자. 즉,\n",
    "$$\n",
    "X_n \\Rightarrow X.\n",
    "$$\n",
    "그러면, 동일한 확률 분포를 가지는 새로운 확률 변수 $\\tilde{X}_n, \\tilde{X}$를 구성할 수 있으며, 이들은 동일한 확률 공간 $(\\Omega, \\mathcal{F}, P)$ 위에서 정의되면서 거의 확실하게(almost surely) 수렴하는 성질을 갖는다. 즉, \n",
    "$$\n",
    "\\tilde{X}_n \\to \\tilde{X} \\quad \\text{almost surely}.\n",
    "$$\n",
    "여기서 $\\tilde{X}_n$과 $\\tilde{X}$는 각각 원래의 $X_n$과 $X$와 동일한 분포를 가지며, 이 새로운 확률 변수들은 동일한 확률 공간에서 정의되었기 때문에 거의 확실한 수렴을 논의할 수 있다."
   ]
  },
  {
   "cell_type": "markdown",
   "id": "2b986806",
   "metadata": {},
   "source": [
    "## References"
   ]
  }
 ],
 "metadata": {
  "kernelspec": {
   "display_name": "Python 3",
   "language": "python",
   "name": "python3"
  },
  "language_info": {
   "codemirror_mode": {
    "name": "ipython",
    "version": 3
   },
   "file_extension": ".py",
   "mimetype": "text/x-python",
   "name": "python",
   "nbconvert_exporter": "python",
   "pygments_lexer": "ipython3",
   "version": "3.9.6"
  },
  "widgets": {
   "application/vnd.jupyter.widget-state+json": {
    "state": {},
    "version_major": 2,
    "version_minor": 0
   }
  }
 },
 "nbformat": 4,
 "nbformat_minor": 5
}
